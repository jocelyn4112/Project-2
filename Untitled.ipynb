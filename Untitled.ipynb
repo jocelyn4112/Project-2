{
 "cells": [
  {
   "cell_type": "code",
   "execution_count": 23,
   "metadata": {},
   "outputs": [
    {
     "name": "stdout",
     "output_type": "stream",
     "text": [
      "[{'type': 'Feature', 'geometry': {'type': 'Point', 'coordinates': ['100', '102']}, 'properties': {'City': 'Fayettenam'}}]\n"
     ]
    }
   ],
   "source": [
    "alienslist2 = [\n",
    "    {\"type\": \"FeatureCollection\",\n",
    "     \"features\": []\n",
    "    }\n",
    "     ]\n",
    "alienslist2[0][\"features\"].append({\n",
    "        \"type\": \"Feature\",\n",
    "        \"geometry\": {\n",
    "            \"type\": \"Point\",\n",
    "            \"coordinates\": ['100', '102']\n",
    "        },\n",
    "        \"properties\": {\"City\": \"Fayettenam\"}\n",
    "})\n",
    "print(alienslist2[0][\"features\"])\n"
   ]
  },
  {
   "cell_type": "code",
   "execution_count": null,
   "metadata": {},
   "outputs": [],
   "source": []
  }
 ],
 "metadata": {
  "kernelspec": {
   "display_name": "Python [conda env:PythonData] *",
   "language": "python",
   "name": "conda-env-PythonData-py"
  },
  "language_info": {
   "codemirror_mode": {
    "name": "ipython",
    "version": 3
   },
   "file_extension": ".py",
   "mimetype": "text/x-python",
   "name": "python",
   "nbconvert_exporter": "python",
   "pygments_lexer": "ipython3",
   "version": "3.6.10"
  }
 },
 "nbformat": 4,
 "nbformat_minor": 4
}
